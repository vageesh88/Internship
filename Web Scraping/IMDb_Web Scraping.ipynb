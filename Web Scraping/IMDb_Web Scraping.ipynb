{
 "cells": [
  {
   "cell_type": "code",
   "execution_count": 1,
   "id": "8b308a6b",
   "metadata": {},
   "outputs": [
    {
     "name": "stdout",
     "output_type": "stream",
     "text": [
      "Requirement already satisfied: bs4 in c:\\users\\vageesh\\anaconda3\\lib\\site-packages (0.0.1)\n",
      "Requirement already satisfied: beautifulsoup4 in c:\\users\\vageesh\\anaconda3\\lib\\site-packages (from bs4) (4.10.0)\n",
      "Requirement already satisfied: soupsieve>1.2 in c:\\users\\vageesh\\anaconda3\\lib\\site-packages (from beautifulsoup4->bs4) (2.2.1)\n",
      "Requirement already satisfied: requests in c:\\users\\vageesh\\anaconda3\\lib\\site-packages (2.26.0)\n",
      "Requirement already satisfied: charset-normalizer~=2.0.0 in c:\\users\\vageesh\\anaconda3\\lib\\site-packages (from requests) (2.0.4)\n",
      "Requirement already satisfied: idna<4,>=2.5 in c:\\users\\vageesh\\anaconda3\\lib\\site-packages (from requests) (3.2)\n",
      "Requirement already satisfied: urllib3<1.27,>=1.21.1 in c:\\users\\vageesh\\anaconda3\\lib\\site-packages (from requests) (1.26.7)\n",
      "Requirement already satisfied: certifi>=2017.4.17 in c:\\users\\vageesh\\anaconda3\\lib\\site-packages (from requests) (2021.10.8)\n"
     ]
    }
   ],
   "source": [
    "# Python program to display IMDB’s Top rated 100 movies data\n",
    "\n",
    "# install library (bs4) and request\n",
    "!pip install bs4\n",
    "!pip install requests"
   ]
  },
  {
   "cell_type": "code",
   "execution_count": 2,
   "id": "5029a44e",
   "metadata": {},
   "outputs": [
    {
     "data": {
      "text/plain": [
       "<Response [200]>"
      ]
     },
     "execution_count": 2,
     "metadata": {},
     "output_type": "execute_result"
    }
   ],
   "source": [
    "# import BeautifulSoup\n",
    "from bs4 import BeautifulSoup\n",
    "import requests\n",
    "\n",
    "# request page 1 of IMDb top 100 movies for data\n",
    "page1 = requests.get('https://www.imdb.com/search/title/?groups=top_100&sort=user_rating,desc')\n",
    "page1"
   ]
  },
  {
   "cell_type": "code",
   "execution_count": 3,
   "id": "9e721e3b",
   "metadata": {},
   "outputs": [
    {
     "data": {
      "text/plain": [
       "<Response [200]>"
      ]
     },
     "execution_count": 3,
     "metadata": {},
     "output_type": "execute_result"
    }
   ],
   "source": [
    "# request page 2 of IMDb top 100 movies for data\n",
    "page2 = requests.get('https://www.imdb.com/search/title/?groups=top_100&sort=user_rating,desc&start=51&ref_=adv_nxt')\n",
    "page2"
   ]
  },
  {
   "cell_type": "code",
   "execution_count": 4,
   "id": "beaa562d",
   "metadata": {},
   "outputs": [],
   "source": [
    "# extract data from page 1 of IMDb top 100 movies\n",
    "src_1 = BeautifulSoup(page1.content)"
   ]
  },
  {
   "cell_type": "code",
   "execution_count": 5,
   "id": "dc16f34d",
   "metadata": {},
   "outputs": [],
   "source": [
    "# extract data from page 2 of IMDb top 100 movies\n",
    "src_2 = BeautifulSoup(page2.content)"
   ]
  },
  {
   "cell_type": "code",
   "execution_count": 6,
   "id": "fdc3a539",
   "metadata": {},
   "outputs": [
    {
     "name": "stdout",
     "output_type": "stream",
     "text": [
      "1.The Shawshank Redemption(1994)   { IMDb Rating: 9.3 }\n",
      "2.The Godfather(1972)   { IMDb Rating: 9.2 }\n",
      "3.The Dark Knight(2008)   { IMDb Rating: 9.0 }\n",
      "4.The Lord of the Rings: The Return of the King(2003)   { IMDb Rating: 9.0 }\n",
      "5.Schindler's List(1993)   { IMDb Rating: 9.0 }\n",
      "6.The Godfather: Part II(1974)   { IMDb Rating: 9.0 }\n",
      "7.12 Angry Men(1957)   { IMDb Rating: 9.0 }\n",
      "8.Pulp Fiction(1994)   { IMDb Rating: 8.9 }\n",
      "9.Inception(2010)   { IMDb Rating: 8.8 }\n",
      "10.The Lord of the Rings: The Two Towers(2002)   { IMDb Rating: 8.8 }\n",
      "11.Fight Club(1999)   { IMDb Rating: 8.8 }\n",
      "12.The Lord of the Rings: The Fellowship of the Ring(2001)   { IMDb Rating: 8.8 }\n",
      "13.Forrest Gump(1994)   { IMDb Rating: 8.8 }\n",
      "14.Il buono, il brutto, il cattivo(1966)   { IMDb Rating: 8.8 }\n",
      "15.Top Gun: Maverick(2022)   { IMDb Rating: 8.7 }\n",
      "16.The Matrix(1999)   { IMDb Rating: 8.7 }\n",
      "17.Goodfellas(1990)   { IMDb Rating: 8.7 }\n",
      "18.The Empire Strikes Back(1980)   { IMDb Rating: 8.7 }\n",
      "19.One Flew Over the Cuckoo's Nest(1975)   { IMDb Rating: 8.7 }\n",
      "20.Interstellar(2014)   { IMDb Rating: 8.6 }\n",
      "21.Cidade de Deus(2002)   { IMDb Rating: 8.6 }\n",
      "22.Sen to Chihiro no kamikakushi(2001)   { IMDb Rating: 8.6 }\n",
      "23.Saving Private Ryan(1998)   { IMDb Rating: 8.6 }\n",
      "24.The Green Mile(1999)   { IMDb Rating: 8.6 }\n",
      "25.La vita è bella(1997)   { IMDb Rating: 8.6 }\n",
      "26.Se7en(1995)   { IMDb Rating: 8.6 }\n",
      "27.Terminator 2: Judgment Day(1991)   { IMDb Rating: 8.6 }\n",
      "28.The Silence of the Lambs(1991)   { IMDb Rating: 8.6 }\n",
      "29.Star Wars(1977)   { IMDb Rating: 8.6 }\n",
      "30.Seppuku(1962)   { IMDb Rating: 8.6 }\n",
      "31.Shichinin no samurai(1954)   { IMDb Rating: 8.6 }\n",
      "32.It's a Wonderful Life(1946)   { IMDb Rating: 8.6 }\n",
      "33.Gisaengchung(2019)   { IMDb Rating: 8.5 }\n",
      "34.Whiplash(2014)   { IMDb Rating: 8.5 }\n",
      "35.The Intouchables(2011)   { IMDb Rating: 8.5 }\n",
      "36.The Prestige(2006)   { IMDb Rating: 8.5 }\n",
      "37.The Departed(2006)   { IMDb Rating: 8.5 }\n",
      "38.The Pianist(2002)   { IMDb Rating: 8.5 }\n",
      "39.Gladiator(2000)   { IMDb Rating: 8.5 }\n",
      "40.American History X(1998)   { IMDb Rating: 8.5 }\n",
      "41.The Usual Suspects(1995)   { IMDb Rating: 8.5 }\n",
      "42.Léon(1994)   { IMDb Rating: 8.5 }\n",
      "43.The Lion King(1994)   { IMDb Rating: 8.5 }\n",
      "44.Nuovo Cinema Paradiso(1988)   { IMDb Rating: 8.5 }\n",
      "45.Hotaru no haka(1988)   { IMDb Rating: 8.5 }\n",
      "46.Back to the Future(1985)   { IMDb Rating: 8.5 }\n",
      "47.Apocalypse Now(1979)   { IMDb Rating: 8.5 }\n",
      "48.Alien(1979)   { IMDb Rating: 8.5 }\n",
      "49.Once Upon a Time in the West(1968)   { IMDb Rating: 8.5 }\n",
      "50.Psycho(1960)   { IMDb Rating: 8.5 }\n",
      "51.Rear Window(1954)   { IMDb Rating: 8.5 }\n",
      "52.Casablanca(1942)   { IMDb Rating: 8.5 }\n",
      "53.Modern Times(1936)   { IMDb Rating: 8.5 }\n",
      "54.City Lights(1931)   { IMDb Rating: 8.5 }\n",
      "55.Capharnaüm(2018)   { IMDb Rating: 8.4 }\n",
      "56.Joker(I) (2019)   { IMDb Rating: 8.4 }\n",
      "57.Everything Everywhere All at Once(2022)   { IMDb Rating: 8.4 }\n",
      "58.Kimi no na wa.(2016)   { IMDb Rating: 8.4 }\n",
      "59.Spider-Man: Into the Spider-Verse(2018)   { IMDb Rating: 8.4 }\n",
      "60.Avengers: Endgame(2019)   { IMDb Rating: 8.4 }\n",
      "61.Avengers: Infinity War(2018)   { IMDb Rating: 8.4 }\n",
      "62.Coco(I) (2017)   { IMDb Rating: 8.4 }\n",
      "63.Django Unchained(2012)   { IMDb Rating: 8.4 }\n",
      "64.The Dark Knight Rises(2012)   { IMDb Rating: 8.4 }\n",
      "65.3 Idiots(2009)   { IMDb Rating: 8.4 }\n",
      "66.WALL·E(2008)   { IMDb Rating: 8.4 }\n",
      "67.The Lives of Others(2006)   { IMDb Rating: 8.4 }\n",
      "68.Oldeuboi(2003)   { IMDb Rating: 8.4 }\n",
      "69.Memento(2000)   { IMDb Rating: 8.4 }\n",
      "70.American Beauty(1999)   { IMDb Rating: 8.4 }\n",
      "71.Mononoke-hime(1997)   { IMDb Rating: 8.4 }\n",
      "72.Braveheart(1995)   { IMDb Rating: 8.4 }\n",
      "73.Aliens(1986)   { IMDb Rating: 8.4 }\n",
      "74.Amadeus(1984)   { IMDb Rating: 8.4 }\n",
      "75.Raiders of the Lost Ark(1981)   { IMDb Rating: 8.4 }\n",
      "76.Das Boot(1981)   { IMDb Rating: 8.4 }\n",
      "77.The Shining(1980)   { IMDb Rating: 8.4 }\n",
      "78.Tengoku to jigoku(1963)   { IMDb Rating: 8.4 }\n",
      "79.Dr. Strangelove or: How I Learned to Stop Worrying and Love the Bomb(1964)   { IMDb Rating: 8.4 }\n",
      "80.Witness for the Prosecution(1957)   { IMDb Rating: 8.4 }\n",
      "81.Paths of Glory(1957)   { IMDb Rating: 8.4 }\n",
      "82.Sunset Blvd.(1950)   { IMDb Rating: 8.4 }\n",
      "83.The Great Dictator(1940)   { IMDb Rating: 8.4 }\n",
      "84.Jagten(2012)   { IMDb Rating: 8.3 }\n",
      "85.Toy Story 3(2010)   { IMDb Rating: 8.3 }\n",
      "86.Inglourious Basterds(2009)   { IMDb Rating: 8.3 }\n",
      "87.Eternal Sunshine of the Spotless Mind(2004)   { IMDb Rating: 8.3 }\n",
      "88.Requiem for a Dream(2000)   { IMDb Rating: 8.3 }\n",
      "89.Good Will Hunting(1997)   { IMDb Rating: 8.3 }\n",
      "90.Toy Story(1995)   { IMDb Rating: 8.3 }\n",
      "91.Reservoir Dogs(1992)   { IMDb Rating: 8.3 }\n",
      "92.Once Upon a Time in America(1984)   { IMDb Rating: 8.3 }\n",
      "93.Star Wars: Episode VI - Return of the Jedi(1983)   { IMDb Rating: 8.3 }\n",
      "94.2001: A Space Odyssey(1968)   { IMDb Rating: 8.3 }\n",
      "95.Lawrence of Arabia(1962)   { IMDb Rating: 8.3 }\n",
      "96.North by Northwest(1959)   { IMDb Rating: 8.3 }\n",
      "97.Vertigo(1958)   { IMDb Rating: 8.3 }\n",
      "98.Singin' in the Rain(1952)   { IMDb Rating: 8.3 }\n",
      "99.Citizen Kane(1941)   { IMDb Rating: 8.3 }\n",
      "100.M - Eine Stadt sucht einen Mörder(1931)   { IMDb Rating: 8.3 }\n"
     ]
    }
   ],
   "source": [
    "# scrape data for movie titles and ranking\n",
    "top_1 = []\n",
    "for i in src_1.find_all(\"h3\",class_=\"lister-item-header\"):\n",
    "    top_1.append(i.text.replace('\\n',''))\n",
    "for i in src_2.find_all(\"h3\",class_=\"lister-item-header\"): # scrape data for movie titles in page 2 and append in top_1 list\n",
    "    top_1.append(i.text.replace('\\n','')) \n",
    "\n",
    "# scrape data for movie IMDb ratings\n",
    "rating_1 = []\n",
    "for i in src_1.find_all('div',class_=\"inline-block ratings-imdb-rating\"):\n",
    "    rating_1.append(i.text.replace('\\n',''))\n",
    "for i in src_2.find_all('div',class_=\"inline-block ratings-imdb-rating\"): # scrape data for movie IMDb ratings in page 2 and append in top_1 list\n",
    "    rating_1.append(i.text.replace('\\n',''))\n",
    "\n",
    "# displaying the data scraped from IMDb site for top 100 movies\n",
    "for val in range(0,len(top_1)):\n",
    "    print(top_1[val],'  { IMDb Rating:',rating_1[val],'}')"
   ]
  },
  {
   "cell_type": "code",
   "execution_count": 7,
   "id": "33490a34",
   "metadata": {},
   "outputs": [
    {
     "data": {
      "text/html": [
       "<div>\n",
       "<style scoped>\n",
       "    .dataframe tbody tr th:only-of-type {\n",
       "        vertical-align: middle;\n",
       "    }\n",
       "\n",
       "    .dataframe tbody tr th {\n",
       "        vertical-align: top;\n",
       "    }\n",
       "\n",
       "    .dataframe thead th {\n",
       "        text-align: right;\n",
       "    }\n",
       "</style>\n",
       "<table border=\"1\" class=\"dataframe\">\n",
       "  <thead>\n",
       "    <tr style=\"text-align: right;\">\n",
       "      <th></th>\n",
       "      <th>Rank and Movie Title</th>\n",
       "      <th>IMDb Rating</th>\n",
       "    </tr>\n",
       "  </thead>\n",
       "  <tbody>\n",
       "    <tr>\n",
       "      <th>1</th>\n",
       "      <td>1.The Shawshank Redemption(1994)</td>\n",
       "      <td>9.3</td>\n",
       "    </tr>\n",
       "    <tr>\n",
       "      <th>2</th>\n",
       "      <td>2.The Godfather(1972)</td>\n",
       "      <td>9.2</td>\n",
       "    </tr>\n",
       "    <tr>\n",
       "      <th>3</th>\n",
       "      <td>3.The Dark Knight(2008)</td>\n",
       "      <td>9.0</td>\n",
       "    </tr>\n",
       "    <tr>\n",
       "      <th>4</th>\n",
       "      <td>4.The Lord of the Rings: The Return of the Kin...</td>\n",
       "      <td>9.0</td>\n",
       "    </tr>\n",
       "    <tr>\n",
       "      <th>5</th>\n",
       "      <td>5.Schindler's List(1993)</td>\n",
       "      <td>9.0</td>\n",
       "    </tr>\n",
       "    <tr>\n",
       "      <th>...</th>\n",
       "      <td>...</td>\n",
       "      <td>...</td>\n",
       "    </tr>\n",
       "    <tr>\n",
       "      <th>96</th>\n",
       "      <td>96.North by Northwest(1959)</td>\n",
       "      <td>8.3</td>\n",
       "    </tr>\n",
       "    <tr>\n",
       "      <th>97</th>\n",
       "      <td>97.Vertigo(1958)</td>\n",
       "      <td>8.3</td>\n",
       "    </tr>\n",
       "    <tr>\n",
       "      <th>98</th>\n",
       "      <td>98.Singin' in the Rain(1952)</td>\n",
       "      <td>8.3</td>\n",
       "    </tr>\n",
       "    <tr>\n",
       "      <th>99</th>\n",
       "      <td>99.Citizen Kane(1941)</td>\n",
       "      <td>8.3</td>\n",
       "    </tr>\n",
       "    <tr>\n",
       "      <th>100</th>\n",
       "      <td>100.M - Eine Stadt sucht einen Mörder(1931)</td>\n",
       "      <td>8.3</td>\n",
       "    </tr>\n",
       "  </tbody>\n",
       "</table>\n",
       "<p>100 rows × 2 columns</p>\n",
       "</div>"
      ],
      "text/plain": [
       "                                  Rank and Movie Title IMDb Rating\n",
       "1                     1.The Shawshank Redemption(1994)         9.3\n",
       "2                                2.The Godfather(1972)         9.2\n",
       "3                              3.The Dark Knight(2008)         9.0\n",
       "4    4.The Lord of the Rings: The Return of the Kin...         9.0\n",
       "5                             5.Schindler's List(1993)         9.0\n",
       "..                                                 ...         ...\n",
       "96                         96.North by Northwest(1959)         8.3\n",
       "97                                    97.Vertigo(1958)         8.3\n",
       "98                        98.Singin' in the Rain(1952)         8.3\n",
       "99                               99.Citizen Kane(1941)         8.3\n",
       "100        100.M - Eine Stadt sucht einen Mörder(1931)         8.3\n",
       "\n",
       "[100 rows x 2 columns]"
      ]
     },
     "execution_count": 7,
     "metadata": {},
     "output_type": "execute_result"
    }
   ],
   "source": [
    "# making a dataframe for storing IMDb top 100 movies data\n",
    "import pandas as pd\n",
    "\n",
    "db_top100 = pd.DataFrame({'Rank and Movie Title':top_1,'IMDb Rating':rating_1})\n",
    "db_top100.index +=1\n",
    "db_top100"
   ]
  },
  {
   "cell_type": "code",
   "execution_count": null,
   "id": "fee6d9f0",
   "metadata": {},
   "outputs": [],
   "source": []
  }
 ],
 "metadata": {
  "kernelspec": {
   "display_name": "Python 3 (ipykernel)",
   "language": "python",
   "name": "python3"
  },
  "language_info": {
   "codemirror_mode": {
    "name": "ipython",
    "version": 3
   },
   "file_extension": ".py",
   "mimetype": "text/x-python",
   "name": "python",
   "nbconvert_exporter": "python",
   "pygments_lexer": "ipython3",
   "version": "3.9.7"
  }
 },
 "nbformat": 4,
 "nbformat_minor": 5
}
