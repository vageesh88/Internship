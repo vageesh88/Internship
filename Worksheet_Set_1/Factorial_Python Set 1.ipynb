{
 "cells": [
  {
   "cell_type": "code",
   "execution_count": null,
   "id": "b0afe4db",
   "metadata": {},
   "outputs": [],
   "source": [
    "# Python program to find the factorial of a number\n",
    "\n",
    "while True:\n",
    "    try:\n",
    "        # ask User to input number for which he wants to get factorial\n",
    "        num = int(input(\"Hello User. \\nEnter the number you want to find factorial for:\"))\n",
    "\n",
    "    except:\n",
    "        # raise error if entered value is not an integer\n",
    "        print(\"\\nPlease enter an Integer value only!!\")\n",
    "        continue\n",
    "\n",
    "    else:\n",
    "        fact = 1\n",
    "        # case when user entered value is a negetive integer\n",
    "        if num < 0:\n",
    "            print(\"\\nNumber is Negetive. Factorial cannot be done.\")\n",
    "        \n",
    "        # case when user entered value is 0\n",
    "        elif num == 0:\n",
    "            print(\"\\nFactorial of 0 is: 1\")\n",
    "        \n",
    "        else:\n",
    "            # loop to iterate user entered number to get factorial\n",
    "            for val in range(1,num+1):\n",
    "                fact = fact*val\n",
    "                val +=1\n",
    "            \n",
    "            # print factorial of number\n",
    "            print(\"Factorial of\",str(num),\"is:\",fact)"
   ]
  },
  {
   "cell_type": "code",
   "execution_count": null,
   "id": "f635ee5d",
   "metadata": {},
   "outputs": [],
   "source": []
  }
 ],
 "metadata": {
  "kernelspec": {
   "display_name": "Python 3 (ipykernel)",
   "language": "python",
   "name": "python3"
  },
  "language_info": {
   "codemirror_mode": {
    "name": "ipython",
    "version": 3
   },
   "file_extension": ".py",
   "mimetype": "text/x-python",
   "name": "python",
   "nbconvert_exporter": "python",
   "pygments_lexer": "ipython3",
   "version": "3.9.7"
  }
 },
 "nbformat": 4,
 "nbformat_minor": 5
}
