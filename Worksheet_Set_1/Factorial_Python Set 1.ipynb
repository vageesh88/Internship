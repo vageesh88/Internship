{
 "cells": [
  {
   "cell_type": "code",
   "execution_count": null,
   "id": "b0afe4db",
   "metadata": {},
   "outputs": [
    {
     "name": "stdout",
     "output_type": "stream",
     "text": [
      "Hello User. \n",
      "Enter the number you want to find factorial for:5\n",
      "\n",
      "Factorial of 5 is: 120\n"
     ]
    }
   ],
   "source": [
    "while True:\n",
    "    try:\n",
    "        num = int(input(\"Hello User. \\nEnter the number you want to find factorial for:\"))\n",
    "\n",
    "    except:\n",
    "        print(\"\\nPlease enter an Integer value only!!\")\n",
    "        continue\n",
    "\n",
    "    else:\n",
    "        fact = 1\n",
    "        if num < 0:\n",
    "            print(\"\\nNumber is Negetive. Factorial cannot be done.\")\n",
    "        elif num == 0:\n",
    "            print(\"\\nFactorial of 0 is: 1\")\n",
    "        else:\n",
    "            for val in range(1,num+1):\n",
    "                fact = fact*val\n",
    "                val +=1\n",
    "            print(\"\\nFactorial of\",str(num),\"is:\",fact)"
   ]
  },
  {
   "cell_type": "code",
   "execution_count": null,
   "id": "f635ee5d",
   "metadata": {},
   "outputs": [],
   "source": []
  }
 ],
 "metadata": {
  "kernelspec": {
   "display_name": "Python 3 (ipykernel)",
   "language": "python",
   "name": "python3"
  },
  "language_info": {
   "codemirror_mode": {
    "name": "ipython",
    "version": 3
   },
   "file_extension": ".py",
   "mimetype": "text/x-python",
   "name": "python",
   "nbconvert_exporter": "python",
   "pygments_lexer": "ipython3",
   "version": "3.9.7"
  }
 },
 "nbformat": 4,
 "nbformat_minor": 5
}
