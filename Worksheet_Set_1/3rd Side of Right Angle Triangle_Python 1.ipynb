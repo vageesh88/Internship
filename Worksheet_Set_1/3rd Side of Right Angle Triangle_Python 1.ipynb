{
 "cells": [
  {
   "cell_type": "code",
   "execution_count": null,
   "id": "9bd41527",
   "metadata": {},
   "outputs": [
    {
     "name": "stdout",
     "output_type": "stream",
     "text": [
      "Enter length of first side:5\n",
      "First entered side is a Base-'b' OR Perpendicular-'p' OR Hypotenuse-'h'? \n",
      "Enter your response:h\n",
      "Enter length of second side:4\n",
      "Second entered side is a Base-'b' OR Perpendicular-'p' OR Hypotenuse-'h'? \n",
      "Enter your response:b\n",
      "\n",
      "The length of third side is:  3.0 \n",
      "It is the Perpendicular.\n",
      "\n"
     ]
    }
   ],
   "source": [
    "# Python program to get the third side of right-angled triangle from two given sides\n",
    "\n",
    "import math\n",
    "\n",
    "while True:\n",
    "    try:\n",
    "        x = float(input(\"Enter length of first side:\"))\n",
    "        assert x > 0 # making condition-1 for first side entry\n",
    "        side1 = (input(\"First entered side is a Base-'b' OR Perpendicular-'p' OR Hypotenuse-'h'? \\nEnter your response:\"))\n",
    "        if side1 in ['b','p','h']: # to check if valid side description entered\n",
    "            y = float(input(\"Enter length of second side:\"))\n",
    "            assert y > 0 # making condition-2 for second side entry\n",
    "            side2 = (input(\"Second entered side is a Base-'b' OR Perpendicular-'p' OR Hypotenuse-'h'? \\nEnter your response:\"))\n",
    "            if side1 != side2: # to check if both sides are not comman (eg. both are not base)\n",
    "                if side2 in ['b','p','h']: # to check if valid side description entered\n",
    "                    if side1=='h': # if first entered side is hypotenuse\n",
    "                        assert x > y # condition-3: hypotenuse > perpendicular/base\n",
    "                        if (side1=='h' and side2=='b'):# second side base\n",
    "                            z = math.sqrt(x**2 - y**2)\n",
    "                            print(\"\\nThe length of third side is: \",z,\"\\nIt is the Perpendicular.\\n\")\n",
    "                        else: # second side perpendicular\n",
    "                            z = math.sqrt(x**2 - y**2)\n",
    "                            print(\"\\nThe length of third side is: \",z,\"\\nIt is the Base.\\n\")\n",
    "                    elif side2=='h': # if second entered side is hypotenuse\n",
    "                        assert y > x # condition-3: hypotenuse > perpendicular/base\n",
    "                        if (side1=='b' and side2=='h'): # first side base\n",
    "                            z = math.sqrt(y**2 - x**2)\n",
    "                            print(\"\\nThe length of third side is: \",z,\"\\nIt is the Perpendicular.\\n\")\n",
    "                        else: # first side perpendicular\n",
    "                            z = math.sqrt(y**2 - x**2)\n",
    "                            print(\"\\nThe length of third side is: \",z,\"\\nIt is the Base.\\n\")\n",
    "                    else: # one side is perpendicular and other is base OR vice-versa\n",
    "                        z = math.sqrt(x**2 + y**2)\n",
    "                        print(\"\\nThe length of third side is: \",z,\"\\nIt is the Hypotenuse.\\n\")\n",
    "                else:\n",
    "                    print(\"Invalid Response. Please try again.\\nBase-'b' OR Perpendicular-'p' OR Hypotenuse-'h'\\n\")\n",
    "            else:\n",
    "                print('Error!! Two sides cannot be of same type.\\n')\n",
    "        else:\n",
    "            print(\"Invalid Response. Please try again.\\nBase-'b' OR Perpendicular-'p' OR Hypotenuse-'h'\\n\")\n",
    "    \n",
    "    except ValueError: # only float type value will be accepted for length of triangle (x and y)\n",
    "        print('Please enter a valid numerical value.')        \n",
    "    except AssertionError: # raise error for self-made conditions(1,2,3)\n",
    "        print(\"Invalid Response. Plese check the following:\\n1. Length should not be negative or zero.\\n2. Hypotenuse value > Perpendicular/Base value.\")"
   ]
  },
  {
   "cell_type": "code",
   "execution_count": null,
   "id": "ce583766",
   "metadata": {},
   "outputs": [],
   "source": []
  }
 ],
 "metadata": {
  "kernelspec": {
   "display_name": "Python 3 (ipykernel)",
   "language": "python",
   "name": "python3"
  },
  "language_info": {
   "codemirror_mode": {
    "name": "ipython",
    "version": 3
   },
   "file_extension": ".py",
   "mimetype": "text/x-python",
   "name": "python",
   "nbconvert_exporter": "python",
   "pygments_lexer": "ipython3",
   "version": "3.9.7"
  }
 },
 "nbformat": 4,
 "nbformat_minor": 5
}
