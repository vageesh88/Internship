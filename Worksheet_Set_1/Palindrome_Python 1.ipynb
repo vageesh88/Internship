{
 "cells": [
  {
   "cell_type": "code",
   "execution_count": null,
   "id": "f44235e4",
   "metadata": {},
   "outputs": [],
   "source": [
    "# Program to check whether a given string is palindrome or not\n",
    "\n",
    "while True:\n",
    "    try:\n",
    "        # take string input from user\n",
    "        str1 = str(input(\"Hello User. \\nEnter the String:\"))\n",
    "        \n",
    "        str_len = len(str1)\n",
    "        print(\"\\nThe String Length is:\",str_len)\n",
    "        \n",
    "        # declare variable to use as identifier in loop while comparing strings\n",
    "        count = 0\n",
    "        # loop to compare user entered string to its reveresed version \n",
    "        for val in range(0,str_len-1):\n",
    "            if str1[int(val)] == str1[int(str_len)-1]:\n",
    "                str_len = str_len-1\n",
    "            else:\n",
    "                count = count + 1\n",
    "        \n",
    "        # if-else condition to check identifier (count) after loop ends\n",
    "        if count == 0:\n",
    "            print(\"\\nEntered String is a Palindrome\")\n",
    "        else:\n",
    "            print(\"\\nEntered String is not a Palindrome\")\n",
    "    \n",
    "    except ValueError:\n",
    "        print('Invalid Response')"
   ]
  },
  {
   "cell_type": "code",
   "execution_count": null,
   "id": "aa3d9230",
   "metadata": {},
   "outputs": [],
   "source": []
  }
 ],
 "metadata": {
  "kernelspec": {
   "display_name": "Python 3 (ipykernel)",
   "language": "python",
   "name": "python3"
  },
  "language_info": {
   "codemirror_mode": {
    "name": "ipython",
    "version": 3
   },
   "file_extension": ".py",
   "mimetype": "text/x-python",
   "name": "python",
   "nbconvert_exporter": "python",
   "pygments_lexer": "ipython3",
   "version": "3.9.7"
  }
 },
 "nbformat": 4,
 "nbformat_minor": 5
}
