{
 "cells": [
  {
   "cell_type": "code",
   "execution_count": null,
   "id": "9eb54f2b",
   "metadata": {},
   "outputs": [],
   "source": [
    "# Python program to find whether a number is prime or composite\n",
    "\n",
    "while True:\n",
    "    try:\n",
    "        # take input from user for checking if the number is prime\n",
    "        num = int(input('Enter the number you want to check:'))\n",
    "\n",
    "    except:\n",
    "        # raise error if user entered value is not an integer\n",
    "        print('ERROR!! Entered value is not an integer.\\n')\n",
    "    \n",
    "    else:\n",
    "        # case if enterd value is a negetive integer\n",
    "        if num < 0:\n",
    "            print('Entered value is a Negetive Integer.\\n')\n",
    "        \n",
    "        # case if entered value is 0\n",
    "        elif num == 0:\n",
    "            print('\"0\" is not a Prime Number.\\n')\n",
    "        \n",
    "        # case if entered value is 1\n",
    "        elif num == 1:\n",
    "            print('\"1\" is a Unique Number\\n')\n",
    "        \n",
    "        else:\n",
    "            # declaring a variable to use as identifier in loop\n",
    "            count = 0\n",
    "            # loop to check if user entered number is prime or not\n",
    "            for val in range(2,num):\n",
    "                if num % val == 0:\n",
    "                    count = count + 1\n",
    "                    break\n",
    "            \n",
    "            # declaring if enterd number is prime or not based on value of identifier after loop ends\n",
    "            if count > 0:\n",
    "                print(num,'is not a Prime Number.\\n')\n",
    "            else:\n",
    "                print(num,'is a Prime Number.\\n')"
   ]
  },
  {
   "cell_type": "code",
   "execution_count": null,
   "id": "f0ec534d",
   "metadata": {},
   "outputs": [],
   "source": []
  }
 ],
 "metadata": {
  "kernelspec": {
   "display_name": "Python 3 (ipykernel)",
   "language": "python",
   "name": "python3"
  },
  "language_info": {
   "codemirror_mode": {
    "name": "ipython",
    "version": 3
   },
   "file_extension": ".py",
   "mimetype": "text/x-python",
   "name": "python",
   "nbconvert_exporter": "python",
   "pygments_lexer": "ipython3",
   "version": "3.9.7"
  }
 },
 "nbformat": 4,
 "nbformat_minor": 5
}
