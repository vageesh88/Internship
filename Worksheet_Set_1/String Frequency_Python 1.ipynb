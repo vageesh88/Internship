{
 "cells": [
  {
   "cell_type": "code",
   "execution_count": null,
   "id": "c1f34b0f",
   "metadata": {},
   "outputs": [],
   "source": [
    "# Python program to print the frequency of each of the characters present in a given string\n",
    "\n",
    "while True:\n",
    "    try:\n",
    "        str1 = str(input('Hello User.\\nEnter the string value:')) # taking string type input from user.\n",
    "        \n",
    "        # making a list of all elements in user entered string in ascending order and removing duplicates\n",
    "        str2 = list(set(str1))\n",
    "        print('\\nElements of your String are:',str2,'\\n')\n",
    "        \n",
    "        #making a list of all elements in user entered string as str3 to perform list operations\n",
    "        str3 = list(str1)\n",
    "        \n",
    "        # start loop to count the frequency of all elements from str2 list in str3 list fetched by index value\n",
    "        for val in range(0,len(str2)): \n",
    "            counter = str3.count(str2[val])\n",
    "            print('The Frequency of',str2[val],'is',counter) # print frequency of all elements when loop runs\n",
    "    \n",
    "    except ValueError:\n",
    "        print(\"Invalid input. Please check your response.\")"
   ]
  },
  {
   "cell_type": "code",
   "execution_count": null,
   "id": "656b9fc2",
   "metadata": {},
   "outputs": [],
   "source": []
  }
 ],
 "metadata": {
  "kernelspec": {
   "display_name": "Python 3 (ipykernel)",
   "language": "python",
   "name": "python3"
  },
  "language_info": {
   "codemirror_mode": {
    "name": "ipython",
    "version": 3
   },
   "file_extension": ".py",
   "mimetype": "text/x-python",
   "name": "python",
   "nbconvert_exporter": "python",
   "pygments_lexer": "ipython3",
   "version": "3.9.7"
  }
 },
 "nbformat": 4,
 "nbformat_minor": 5
}
