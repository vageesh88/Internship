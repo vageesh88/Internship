{
 "cells": [
  {
   "cell_type": "code",
   "execution_count": 1,
   "id": "b8c5a2c6",
   "metadata": {},
   "outputs": [
    {
     "name": "stdout",
     "output_type": "stream",
     "text": [
      "Requirement already satisfied: selenium in c:\\users\\vageesh\\anaconda3\\lib\\site-packages (4.2.0)\n",
      "Requirement already satisfied: urllib3[secure,socks]~=1.26 in c:\\users\\vageesh\\anaconda3\\lib\\site-packages (from selenium) (1.26.7)\n",
      "Requirement already satisfied: trio-websocket~=0.9 in c:\\users\\vageesh\\anaconda3\\lib\\site-packages (from selenium) (0.9.2)\n",
      "Requirement already satisfied: trio~=0.17 in c:\\users\\vageesh\\anaconda3\\lib\\site-packages (from selenium) (0.21.0)\n",
      "Requirement already satisfied: sortedcontainers in c:\\users\\vageesh\\anaconda3\\lib\\site-packages (from trio~=0.17->selenium) (2.4.0)\n",
      "Requirement already satisfied: cffi>=1.14 in c:\\users\\vageesh\\anaconda3\\lib\\site-packages (from trio~=0.17->selenium) (1.14.6)\n",
      "Requirement already satisfied: outcome in c:\\users\\vageesh\\anaconda3\\lib\\site-packages (from trio~=0.17->selenium) (1.1.0)\n",
      "Requirement already satisfied: async-generator>=1.9 in c:\\users\\vageesh\\anaconda3\\lib\\site-packages (from trio~=0.17->selenium) (1.10)\n",
      "Requirement already satisfied: idna in c:\\users\\vageesh\\anaconda3\\lib\\site-packages (from trio~=0.17->selenium) (3.2)\n",
      "Requirement already satisfied: sniffio in c:\\users\\vageesh\\anaconda3\\lib\\site-packages (from trio~=0.17->selenium) (1.2.0)\n",
      "Requirement already satisfied: attrs>=19.2.0 in c:\\users\\vageesh\\anaconda3\\lib\\site-packages (from trio~=0.17->selenium) (21.2.0)\n",
      "Requirement already satisfied: pycparser in c:\\users\\vageesh\\anaconda3\\lib\\site-packages (from cffi>=1.14->trio~=0.17->selenium) (2.20)\n",
      "Requirement already satisfied: wsproto>=0.14 in c:\\users\\vageesh\\anaconda3\\lib\\site-packages (from trio-websocket~=0.9->selenium) (1.1.0)\n",
      "Requirement already satisfied: pyOpenSSL>=0.14 in c:\\users\\vageesh\\anaconda3\\lib\\site-packages (from urllib3[secure,socks]~=1.26->selenium) (21.0.0)\n",
      "Requirement already satisfied: cryptography>=1.3.4 in c:\\users\\vageesh\\anaconda3\\lib\\site-packages (from urllib3[secure,socks]~=1.26->selenium) (3.4.8)\n",
      "Requirement already satisfied: certifi in c:\\users\\vageesh\\anaconda3\\lib\\site-packages (from urllib3[secure,socks]~=1.26->selenium) (2021.10.8)\n",
      "Requirement already satisfied: PySocks!=1.5.7,<2.0,>=1.5.6 in c:\\users\\vageesh\\anaconda3\\lib\\site-packages (from urllib3[secure,socks]~=1.26->selenium) (1.7.1)\n",
      "Requirement already satisfied: six>=1.5.2 in c:\\users\\vageesh\\anaconda3\\lib\\site-packages (from pyOpenSSL>=0.14->urllib3[secure,socks]~=1.26->selenium) (1.16.0)\n",
      "Requirement already satisfied: h11<1,>=0.9.0 in c:\\users\\vageesh\\anaconda3\\lib\\site-packages (from wsproto>=0.14->trio-websocket~=0.9->selenium) (0.13.0)\n"
     ]
    }
   ],
   "source": [
    "!pip install selenium"
   ]
  },
  {
   "cell_type": "code",
   "execution_count": 2,
   "id": "27f3459a",
   "metadata": {},
   "outputs": [],
   "source": [
    "import selenium\n",
    "import pandas as pd\n",
    "from selenium import webdriver\n",
    "import warnings\n",
    "warnings.filterwarnings(\"ignore\")\n",
    "import time"
   ]
  },
  {
   "cell_type": "code",
   "execution_count": 3,
   "id": "b86ea4a9",
   "metadata": {},
   "outputs": [],
   "source": [
    "driver = webdriver.Chrome(r\"C:\\chromedriver_win32\\chromedriver.exe\")"
   ]
  },
  {
   "cell_type": "code",
   "execution_count": 4,
   "id": "492a73e1",
   "metadata": {},
   "outputs": [],
   "source": [
    "driver.get('https://www.flipkart.com/')"
   ]
  },
  {
   "cell_type": "code",
   "execution_count": 5,
   "id": "afa15927",
   "metadata": {},
   "outputs": [],
   "source": [
    "search_button=driver.find_element_by_xpath(\"//button[@class='_2KpZ6l _2doB4z']\")\n",
    "search_button.click()"
   ]
  },
  {
   "cell_type": "code",
   "execution_count": 6,
   "id": "a585768d",
   "metadata": {},
   "outputs": [],
   "source": [
    "search_field_designation=driver.find_element_by_class_name('_3704LK')\n",
    "search_field_designation.send_keys('sneakers')"
   ]
  },
  {
   "cell_type": "code",
   "execution_count": 7,
   "id": "44c6bb8f",
   "metadata": {},
   "outputs": [],
   "source": [
    "search_button=driver.find_element_by_xpath(\"//button[@class='L0Z3Pu']\")\n",
    "search_button.click()"
   ]
  },
  {
   "cell_type": "code",
   "execution_count": 8,
   "id": "4c5d95ee",
   "metadata": {},
   "outputs": [],
   "source": [
    "brand=[]\n",
    "descr=[]\n",
    "price=[]\n",
    "disc=[]"
   ]
  },
  {
   "cell_type": "code",
   "execution_count": 9,
   "id": "d35cf2b2",
   "metadata": {},
   "outputs": [],
   "source": [
    "while len(brand) < 100 is True:\n",
    "    if len(brand) < 100:\n",
    "        brand_tags = driver.find_elements_by_xpath(\"//div[@class='_2WkVRV']\")\n",
    "        brand_tags = brand_tags[:40]\n",
    "        descr_tags = driver.find_elements_by_xpath(\"//a[@class='IRpwTa']\")\n",
    "        descr_tags = descr_tags[:40]\n",
    "        price_tags = driver.find_elements_by_xpath(\"//div[@class='_30jeq3']\")\n",
    "        price_tags = price_tags[:40]\n",
    "        disc_tags = driver.find_elements_by_xpath(\"//div[@class='_3Ay6Sb']\")\n",
    "        disc_tags = disc_tags[:40]\n",
    "        for i in brand_tags:\n",
    "            title=i.text\n",
    "            brand.append(title)\n",
    "        for i in descr_tags:\n",
    "            title=i.text\n",
    "            descr.append(title)\n",
    "        for i in price_tags:\n",
    "            title=i.text\n",
    "            price.append(title) \n",
    "        for i in disc_tags:\n",
    "            title=i.text\n",
    "            disc.append(title)\n",
    "        next_button=driver.find_element_by_xpath(\"//a[@class='_1LKTO3']\")\n",
    "        next_button.click()\n",
    "        time.sleep(5)\n",
    "else:\n",
    "    brand = brand[:100]\n",
    "    descr = descr[:100]\n",
    "    price = price[:100]\n",
    "    disc = disc[:100]"
   ]
  },
  {
   "cell_type": "code",
   "execution_count": 10,
   "id": "4135737d",
   "metadata": {},
   "outputs": [
    {
     "data": {
      "text/plain": [
       "0"
      ]
     },
     "execution_count": 10,
     "metadata": {},
     "output_type": "execute_result"
    }
   ],
   "source": [
    "len(brand)"
   ]
  },
  {
   "cell_type": "code",
   "execution_count": 12,
   "id": "104400d8",
   "metadata": {},
   "outputs": [
    {
     "data": {
      "text/html": [
       "<div>\n",
       "<style scoped>\n",
       "    .dataframe tbody tr th:only-of-type {\n",
       "        vertical-align: middle;\n",
       "    }\n",
       "\n",
       "    .dataframe tbody tr th {\n",
       "        vertical-align: top;\n",
       "    }\n",
       "\n",
       "    .dataframe thead th {\n",
       "        text-align: right;\n",
       "    }\n",
       "</style>\n",
       "<table border=\"1\" class=\"dataframe\">\n",
       "  <thead>\n",
       "    <tr style=\"text-align: right;\">\n",
       "      <th></th>\n",
       "      <th>Brand</th>\n",
       "      <th>Product</th>\n",
       "      <th>Price</th>\n",
       "      <th>Discount</th>\n",
       "    </tr>\n",
       "  </thead>\n",
       "  <tbody>\n",
       "  </tbody>\n",
       "</table>\n",
       "</div>"
      ],
      "text/plain": [
       "Empty DataFrame\n",
       "Columns: [Brand, Product, Price, Discount]\n",
       "Index: []"
      ]
     },
     "execution_count": 12,
     "metadata": {},
     "output_type": "execute_result"
    }
   ],
   "source": [
    "jobs=pd.DataFrame({'Brand':brand,'Product':descr,'Price':price,'Discount':disc})\n",
    "jobs"
   ]
  },
  {
   "cell_type": "code",
   "execution_count": null,
   "id": "a8d9af91",
   "metadata": {},
   "outputs": [],
   "source": []
  }
 ],
 "metadata": {
  "kernelspec": {
   "display_name": "Python 3 (ipykernel)",
   "language": "python",
   "name": "python3"
  },
  "language_info": {
   "codemirror_mode": {
    "name": "ipython",
    "version": 3
   },
   "file_extension": ".py",
   "mimetype": "text/x-python",
   "name": "python",
   "nbconvert_exporter": "python",
   "pygments_lexer": "ipython3",
   "version": "3.9.7"
  }
 },
 "nbformat": 4,
 "nbformat_minor": 5
}
